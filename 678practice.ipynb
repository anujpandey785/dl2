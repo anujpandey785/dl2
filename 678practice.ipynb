{
 "cells": [
  {
   "cell_type": "code",
   "execution_count": 13,
   "id": "c2a3fa50",
   "metadata": {},
   "outputs": [],
   "source": [
    "import tensorflow\n",
    "from tensorflow import keras\n",
    "from keras.layers import Embedding, Lambda, Dense\n",
    "\n",
    "from keras.utils import np_utils, pad_sequences\n",
    "\n",
    "from keras.preprocessing.text import Tokenizer\n"
   ]
  },
  {
   "cell_type": "code",
   "execution_count": 14,
   "id": "f18a82e7",
   "metadata": {},
   "outputs": [],
   "source": [
    "raw_data=open('corona.txt',\"r\")\n",
    "\n",
    "corona_data=[text for text in raw_data if text.count(' ')>=2]"
   ]
  },
  {
   "cell_type": "code",
   "execution_count": 15,
   "id": "5eeadad0",
   "metadata": {},
   "outputs": [],
   "source": [
    "vectorize=Tokenizer()"
   ]
  },
  {
   "cell_type": "code",
   "execution_count": 16,
   "id": "5165dd40",
   "metadata": {},
   "outputs": [],
   "source": [
    "vectorize.fit_on_texts(corona_data)"
   ]
  },
  {
   "cell_type": "code",
   "execution_count": 17,
   "id": "26e57c7b",
   "metadata": {},
   "outputs": [],
   "source": [
    "corona_data=vectorize.texts_to_sequences(corona_data)"
   ]
  },
  {
   "cell_type": "code",
   "execution_count": 18,
   "id": "2583c0bc",
   "metadata": {},
   "outputs": [],
   "source": [
    "total_vocab=sum(len(s) for s in corona_data)"
   ]
  },
  {
   "cell_type": "code",
   "execution_count": 19,
   "id": "de78b10b",
   "metadata": {},
   "outputs": [
    {
     "name": "stdout",
     "output_type": "stream",
     "text": [
      "198\n"
     ]
    }
   ],
   "source": [
    "print(total_vocab)"
   ]
  },
  {
   "cell_type": "code",
   "execution_count": 21,
   "id": "a1a62e0a",
   "metadata": {},
   "outputs": [],
   "source": [
    "window_size=2"
   ]
  },
  {
   "cell_type": "code",
   "execution_count": 29,
   "id": "1af2ae8d",
   "metadata": {},
   "outputs": [],
   "source": [
    "def cbow(data,total_vocab,window_size):\n",
    "    total_len=window_size*2\n",
    "    for text in data:\n",
    "        text_len=len(text)\n",
    "        for idx,word in enumerate(text):\n",
    "            context_words=[]\n",
    "            target=[]\n",
    "            begin=idx-window_size\n",
    "            end=idx+window_size+1\n",
    "            context_words.append([text[i] for i in range(begin,end) if 0<=i<text_len and i!=idx])\n",
    "            target.append(word)\n",
    "            contextual=pad_sequences(context_words,maxlen=total_len)\n",
    "            final_target=np_utils.to_categorical(target,total_vocab)\n",
    "            \n",
    "            yield(contextual,final_target)\n",
    "            "
   ]
  },
  {
   "cell_type": "code",
   "execution_count": 30,
   "id": "e643b646",
   "metadata": {},
   "outputs": [],
   "source": [
    "from keras.models import Sequential"
   ]
  },
  {
   "cell_type": "code",
   "execution_count": 31,
   "id": "062cab40",
   "metadata": {},
   "outputs": [],
   "source": [
    "import keras.backend as k"
   ]
  },
  {
   "cell_type": "code",
   "execution_count": 34,
   "id": "ad9a934b",
   "metadata": {},
   "outputs": [],
   "source": [
    "model= Sequential(\n",
    "[Embedding(total_vocab,100),Lambda(lambda x: k.mean(x,axis=1)),Dense(total_vocab,activation='softmax')])"
   ]
  },
  {
   "cell_type": "code",
   "execution_count": 35,
   "id": "c6933971",
   "metadata": {},
   "outputs": [
    {
     "name": "stdout",
     "output_type": "stream",
     "text": [
      "Model: \"sequential\"\n",
      "_________________________________________________________________\n",
      " Layer (type)                Output Shape              Param #   \n",
      "=================================================================\n",
      " embedding (Embedding)       (None, None, 100)         19800     \n",
      "                                                                 \n",
      " lambda (Lambda)             (None, 100)               0         \n",
      "                                                                 \n",
      " dense (Dense)               (None, 198)               19998     \n",
      "                                                                 \n",
      "=================================================================\n",
      "Total params: 39,798\n",
      "Trainable params: 39,798\n",
      "Non-trainable params: 0\n",
      "_________________________________________________________________\n"
     ]
    }
   ],
   "source": [
    "model.summary()"
   ]
  },
  {
   "cell_type": "code",
   "execution_count": 36,
   "id": "f4044633",
   "metadata": {},
   "outputs": [],
   "source": [
    "model.compile(loss='categorical_crossentropy',optimizer='adam')"
   ]
  },
  {
   "cell_type": "code",
   "execution_count": 39,
   "id": "9b88aa57",
   "metadata": {},
   "outputs": [
    {
     "name": "stdout",
     "output_type": "stream",
     "text": [
      "EPOCH  0 23.47691055200994\n",
      "EPOCH  1 21.242812760174274\n",
      "EPOCH  2 19.26554119028151\n",
      "EPOCH  3 17.483465320896357\n",
      "EPOCH  4 15.875002290122211\n",
      "EPOCH  5 14.422214939258993\n",
      "EPOCH  6 13.108846648130566\n",
      "EPOCH  7 11.920415916480124\n",
      "EPOCH  8 10.844091372797266\n",
      "EPOCH  9 9.86852996214293\n"
     ]
    }
   ],
   "source": [
    "for i in range(10):\n",
    "    cost=0\n",
    "    for x,y in cbow(corona_data,total_vocab,window_size):\n",
    "        cost=cost+model.train_on_batch(x,y)\n",
    "    print(\"EPOCH \",i,cost)"
   ]
  },
  {
   "cell_type": "code",
   "execution_count": null,
   "id": "aa40fce5",
   "metadata": {},
   "outputs": [],
   "source": []
  }
 ],
 "metadata": {
  "kernelspec": {
   "display_name": "Python 3 (ipykernel)",
   "language": "python",
   "name": "python3"
  },
  "language_info": {
   "codemirror_mode": {
    "name": "ipython",
    "version": 3
   },
   "file_extension": ".py",
   "mimetype": "text/x-python",
   "name": "python",
   "nbconvert_exporter": "python",
   "pygments_lexer": "ipython3",
   "version": "3.9.13"
  }
 },
 "nbformat": 4,
 "nbformat_minor": 5
}
