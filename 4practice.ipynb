{
 "cells": [
  {
   "cell_type": "code",
   "execution_count": 64,
   "id": "5d73f080",
   "metadata": {},
   "outputs": [],
   "source": [
    "import tensorflow\n",
    "from tensorflow import keras\n",
    "from keras.models import Sequential\n",
    "\n",
    "from keras.layers import Conv2D,MaxPool2D,Flatten,Dense"
   ]
  },
  {
   "cell_type": "code",
   "execution_count": 65,
   "id": "6f9d7425",
   "metadata": {},
   "outputs": [
    {
     "name": "stdout",
     "output_type": "stream",
     "text": [
      "Help on function load_data in module keras.datasets.cifar10:\n",
      "\n",
      "load_data()\n",
      "    Loads the CIFAR10 dataset.\n",
      "    \n",
      "    This is a dataset of 50,000 32x32 color training images and 10,000 test\n",
      "    images, labeled over 10 categories. See more info at the\n",
      "    [CIFAR homepage](https://www.cs.toronto.edu/~kriz/cifar.html).\n",
      "    \n",
      "    The classes are:\n",
      "    \n",
      "    | Label | Description |\n",
      "    |:-----:|-------------|\n",
      "    |   0   | airplane    |\n",
      "    |   1   | automobile  |\n",
      "    |   2   | bird        |\n",
      "    |   3   | cat         |\n",
      "    |   4   | deer        |\n",
      "    |   5   | dog         |\n",
      "    |   6   | frog        |\n",
      "    |   7   | horse       |\n",
      "    |   8   | ship        |\n",
      "    |   9   | truck       |\n",
      "    \n",
      "    Returns:\n",
      "      Tuple of NumPy arrays: `(x_train, y_train), (x_test, y_test)`.\n",
      "    \n",
      "    **x_train**: uint8 NumPy array of grayscale image data with shapes\n",
      "      `(50000, 32, 32, 3)`, containing the training data. Pixel values range\n",
      "      from 0 to 255.\n",
      "    \n",
      "    **y_train**: uint8 NumPy array of labels (integers in range 0-9)\n",
      "      with shape `(50000, 1)` for the training data.\n",
      "    \n",
      "    **x_test**: uint8 NumPy array of grayscale image data with shapes\n",
      "      `(10000, 32, 32, 3)`, containing the test data. Pixel values range\n",
      "      from 0 to 255.\n",
      "    \n",
      "    **y_test**: uint8 NumPy array of labels (integers in range 0-9)\n",
      "      with shape `(10000, 1)` for the test data.\n",
      "    \n",
      "    Example:\n",
      "    \n",
      "    ```python\n",
      "    (x_train, y_train), (x_test, y_test) = keras.datasets.cifar10.load_data()\n",
      "    assert x_train.shape == (50000, 32, 32, 3)\n",
      "    assert x_test.shape == (10000, 32, 32, 3)\n",
      "    assert y_train.shape == (50000, 1)\n",
      "    assert y_test.shape == (10000, 1)\n",
      "    ```\n",
      "\n"
     ]
    }
   ],
   "source": [
    "help(keras.datasets.cifar10.load_data)"
   ]
  },
  {
   "cell_type": "code",
   "execution_count": 66,
   "id": "669240cf",
   "metadata": {},
   "outputs": [],
   "source": [
    "from keras.datasets import cifar10"
   ]
  },
  {
   "cell_type": "code",
   "execution_count": 67,
   "id": "60a99174",
   "metadata": {},
   "outputs": [],
   "source": [
    "(x_train, y_train), (x_test, y_test) = cifar10.load_data()"
   ]
  },
  {
   "cell_type": "code",
   "execution_count": 68,
   "id": "f82c3ca8",
   "metadata": {},
   "outputs": [
    {
     "data": {
      "text/plain": [
       "(50000, 32, 32, 3)"
      ]
     },
     "execution_count": 68,
     "metadata": {},
     "output_type": "execute_result"
    }
   ],
   "source": [
    "x_train.shape"
   ]
  },
  {
   "cell_type": "code",
   "execution_count": 69,
   "id": "a3d77ca4",
   "metadata": {},
   "outputs": [
    {
     "data": {
      "text/plain": [
       "(50000, 32, 32, 3)"
      ]
     },
     "execution_count": 69,
     "metadata": {},
     "output_type": "execute_result"
    }
   ],
   "source": [
    "x_train.shape"
   ]
  },
  {
   "cell_type": "code",
   "execution_count": 70,
   "id": "c5702376",
   "metadata": {},
   "outputs": [],
   "source": [
    "x_train=x_train/255.0\n",
    "x_test=x_test/255.0"
   ]
  },
  {
   "cell_type": "code",
   "execution_count": 75,
   "id": "ace36067",
   "metadata": {},
   "outputs": [],
   "source": [
    "\n",
    "from sklearn.preprocessing import LabelBinarizer\n",
    "lb=LabelBinarizer()\n",
    "y_train=lb.fit_transform(y_train)\n",
    "y_test=lb.transform(y_test)\n"
   ]
  },
  {
   "cell_type": "code",
   "execution_count": 76,
   "id": "c5c85203",
   "metadata": {},
   "outputs": [],
   "source": [
    "model= Sequential(\n",
    "[\n",
    "    Conv2D(filters=16,kernel_size=(3,3),input_shape=[32,32,3],activation='relu',padding=\"same\"),\n",
    "    MaxPool2D(pool_size=2,strides=2,padding=\"valid\"),\n",
    "    Conv2D(filters=16,kernel_size=(3,3),activation='relu',padding=\"same\"),\n",
    "    MaxPool2D(pool_size=2,strides=2,padding=\"valid\"),\n",
    "    Flatten(),\n",
    "    Dense(128,activation='relu'),\n",
    "    Dense(10,activation='softmax')\n",
    "]\n",
    ")"
   ]
  },
  {
   "cell_type": "code",
   "execution_count": 77,
   "id": "725097ce",
   "metadata": {},
   "outputs": [],
   "source": [
    "model.compile(loss='categorical_crossentropy',optimizer='adam',metrics='accuracy')"
   ]
  },
  {
   "cell_type": "code",
   "execution_count": 78,
   "id": "287ca3b5",
   "metadata": {},
   "outputs": [
    {
     "name": "stdout",
     "output_type": "stream",
     "text": [
      "Epoch 1/11\n",
      "391/391 [==============================] - 24s 60ms/step - loss: 1.6119 - accuracy: 0.4233\n",
      "Epoch 2/11\n",
      "391/391 [==============================] - 26s 66ms/step - loss: 1.3051 - accuracy: 0.5379\n",
      "Epoch 3/11\n",
      "391/391 [==============================] - 27s 69ms/step - loss: 1.1806 - accuracy: 0.5847\n",
      "Epoch 4/11\n",
      "391/391 [==============================] - 28s 71ms/step - loss: 1.0978 - accuracy: 0.6147\n",
      "Epoch 5/11\n",
      "391/391 [==============================] - 27s 70ms/step - loss: 1.0355 - accuracy: 0.6391\n",
      "Epoch 6/11\n",
      "391/391 [==============================] - 27s 69ms/step - loss: 0.9848 - accuracy: 0.6559\n",
      "Epoch 7/11\n",
      "391/391 [==============================] - 27s 68ms/step - loss: 0.9427 - accuracy: 0.6730\n",
      "Epoch 8/11\n",
      "391/391 [==============================] - 26s 67ms/step - loss: 0.9067 - accuracy: 0.6836\n",
      "Epoch 9/11\n",
      "391/391 [==============================] - 26s 66ms/step - loss: 0.8687 - accuracy: 0.6965\n",
      "Epoch 10/11\n",
      "391/391 [==============================] - 26s 67ms/step - loss: 0.8381 - accuracy: 0.7076\n",
      "Epoch 11/11\n",
      "391/391 [==============================] - 26s 66ms/step - loss: 0.8083 - accuracy: 0.7167\n"
     ]
    }
   ],
   "source": [
    "H=model.fit(x_train,y_train,epochs=11,batch_size=128)"
   ]
  },
  {
   "cell_type": "code",
   "execution_count": 79,
   "id": "d3d0f06c",
   "metadata": {},
   "outputs": [
    {
     "name": "stdout",
     "output_type": "stream",
     "text": [
      "79/79 [==============================] - 1s 15ms/step - loss: 0.9452 - accuracy: 0.6720\n"
     ]
    }
   ],
   "source": [
    "results=model.evaluate(x_test,y_test,batch_size=128)"
   ]
  },
  {
   "cell_type": "code",
   "execution_count": null,
   "id": "4a6ef0ec",
   "metadata": {},
   "outputs": [],
   "source": []
  }
 ],
 "metadata": {
  "kernelspec": {
   "display_name": "Python 3 (ipykernel)",
   "language": "python",
   "name": "python3"
  },
  "language_info": {
   "codemirror_mode": {
    "name": "ipython",
    "version": 3
   },
   "file_extension": ".py",
   "mimetype": "text/x-python",
   "name": "python",
   "nbconvert_exporter": "python",
   "pygments_lexer": "ipython3",
   "version": "3.9.13"
  }
 },
 "nbformat": 4,
 "nbformat_minor": 5
}
